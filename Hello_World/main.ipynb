{
 "cells": [
  {
   "cell_type": "code",
   "execution_count": 74,
   "metadata": {},
   "outputs": [
    {
     "name": "stdout",
     "output_type": "stream",
     "text": [
      "1\n",
      "<class 'int'>\n",
      "140736542851880\n",
      "140736542851880\n"
     ]
    }
   ],
   "source": [
    "#Ids are same\n",
    "num1 = 1\n",
    "bnum = 1\n",
    "print(num1)\n",
    "print(type(num1))\n",
    "print(id(num1))\n",
    "print(id(bnum))"
   ]
  },
  {
   "cell_type": "code",
   "execution_count": 75,
   "metadata": {},
   "outputs": [
    {
     "name": "stdout",
     "output_type": "stream",
     "text": [
      "Shahmir\n",
      "<class 'str'>\n",
      "2097822992112\n",
      "2097822992112\n"
     ]
    }
   ],
   "source": [
    "#Ids are same\n",
    "name = \"Shahmir\"\n",
    "name1 = \"Shahmir\"\n",
    "print(name)\n",
    "print(type(name))\n",
    "print(id(name))\n",
    "print(id(name1))"
   ]
  },
  {
   "cell_type": "code",
   "execution_count": 76,
   "metadata": {},
   "outputs": [
    {
     "name": "stdout",
     "output_type": "stream",
     "text": [
      "140736541379136\n",
      "140736541379136\n"
     ]
    }
   ],
   "source": [
    "#Ids are same\n",
    "val = True\n",
    "val1 = True\n",
    "print(id(val))\n",
    "print(id(val1))"
   ]
  },
  {
   "cell_type": "code",
   "execution_count": 77,
   "metadata": {},
   "outputs": [
    {
     "name": "stdout",
     "output_type": "stream",
     "text": [
      "2097822776064\n",
      "2097823468032\n"
     ]
    }
   ],
   "source": [
    "#Ids are different\n",
    "list1 = [1,2,3,4,5]\n",
    "list2 = [1,2,3,4,5]\n",
    "print(id(list1))\n",
    "print(id(list2))"
   ]
  },
  {
   "cell_type": "code",
   "execution_count": 78,
   "metadata": {},
   "outputs": [
    {
     "name": "stdout",
     "output_type": "stream",
     "text": [
      "2097823469888\n",
      "2097823382592\n"
     ]
    }
   ],
   "source": [
    "#Ids are different\n",
    "dict1 = {name : \"Shahmir\"}\n",
    "dict2 = {name : \"Shahmir\"}\n",
    "\n",
    "print(id(dict1))\n",
    "print(id(dict2))"
   ]
  },
  {
   "cell_type": "code",
   "execution_count": 79,
   "metadata": {},
   "outputs": [
    {
     "name": "stdout",
     "output_type": "stream",
     "text": [
      "2097823250160\n",
      "2097823141216\n"
     ]
    }
   ],
   "source": [
    "#Ids are different\n",
    "tup = (1,2,3,\"banana\")\n",
    "tup1 = (1,2,3,\"banana\")\n",
    "print(id(tup))\n",
    "print(id(tup1))"
   ]
  },
  {
   "cell_type": "code",
   "execution_count": 80,
   "metadata": {},
   "outputs": [
    {
     "name": "stdout",
     "output_type": "stream",
     "text": [
      "2097822659552\n",
      "2097822657312\n"
     ]
    }
   ],
   "source": [
    "#Ids are different\n",
    "set1 = {1,2,3,4,4}\n",
    "set2 ={1,2,3,4}\n",
    "print(id(set1))\n",
    "print(id(set2))"
   ]
  },
  {
   "cell_type": "markdown",
   "metadata": {},
   "source": [
    "1) Immutable objects like int, str, and bool may share the same id because Python reuses memory for these values.\n",
    "2) Mutable objects like set, list, and dict always have different ids, even with the same content, because they are stored in separate memory locations.\n",
    "3) Tuples are immutable, meaning their contents can't be changed after creation.\n",
    "4) However, tuples containing mutable objects can have their contents (like a list inside a tuple) modified.\n",
    "5) Even if two tuples have the same content, they will have different ids because they are different objects in memory.\n",
    "6) Python creates a new memory location for each tuple, even if they contain identical values."
   ]
  }
 ],
 "metadata": {
  "kernelspec": {
   "display_name": "base",
   "language": "python",
   "name": "python3"
  },
  "language_info": {
   "codemirror_mode": {
    "name": "ipython",
    "version": 3
   },
   "file_extension": ".py",
   "mimetype": "text/x-python",
   "name": "python",
   "nbconvert_exporter": "python",
   "pygments_lexer": "ipython3",
   "version": "3.11.7"
  }
 },
 "nbformat": 4,
 "nbformat_minor": 2
}
