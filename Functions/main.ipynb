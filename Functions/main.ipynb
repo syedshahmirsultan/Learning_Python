{
 "cells": [
  {
   "cell_type": "code",
   "execution_count": 3,
   "metadata": {},
   "outputs": [
    {
     "name": "stdout",
     "output_type": "stream",
     "text": [
      "Welcome to PIAIC Python Crash Course\n"
     ]
    }
   ],
   "source": [
    "def piaic()-> None :\n",
    "    print(\"Welcome to PIAIC Python Crash Course\")\n",
    "    \n",
    "piaic()"
   ]
  },
  {
   "cell_type": "code",
   "execution_count": 7,
   "metadata": {},
   "outputs": [
    {
     "name": "stdout",
     "output_type": "stream",
     "text": [
      "num1 value 7 and num2 value 8\n",
      "15\n"
     ]
    }
   ],
   "source": [
    "def add_two_numbers(num1 : int, num2:int)-> int:\n",
    "        print(f\"num1 value {num1} and num2 value {num2}\")\n",
    "        return print(num1 +num2)\n",
    "\n",
    "add_two_numbers(7,8)"
   ]
  },
  {
   "cell_type": "code",
   "execution_count": 20,
   "metadata": {},
   "outputs": [
    {
     "name": "stdout",
     "output_type": "stream",
     "text": [
      "10\n"
     ]
    }
   ],
   "source": [
    "# Functions with Optional Parameter\n",
    "def add_two_numbers(num1:int,num2:int = 1)-> int:\n",
    "    return num1 +num2\n",
    "\n",
    "print(add_two_numbers(9))\n",
    "    "
   ]
  },
  {
   "cell_type": "code",
   "execution_count": 14,
   "metadata": {},
   "outputs": [
    {
     "name": "stdout",
     "output_type": "stream",
     "text": [
      "4\n"
     ]
    }
   ],
   "source": [
    "# Lambda Function for Addition\n",
    "a= lambda num1,num2 : num1 +num2\n",
    "\n",
    "print(a(3,2))"
   ]
  },
  {
   "cell_type": "code",
   "execution_count": 19,
   "metadata": {},
   "outputs": [
    {
     "name": "stdout",
     "output_type": "stream",
     "text": [
      "25\n"
     ]
    }
   ],
   "source": [
    "# Lambda Function for Squares\n",
    "\n",
    "a = lambda num : num**2\n",
    "\n",
    "print(a(5))"
   ]
  },
  {
   "cell_type": "code",
   "execution_count": 32,
   "metadata": {},
   "outputs": [
    {
     "name": "stdout",
     "output_type": "stream",
     "text": [
      "Hello Syed Shahmir\n",
      "Hello Sultan\n",
      "Hello Shahfay\n",
      "Hello Syed Faizan\n"
     ]
    }
   ],
   "source": [
    "from typing import Tuple\n",
    "\n",
    "def greet(*names : Tuple[str,str])->None:\n",
    "    \"\"\" This function greets all persons in a tuple\n",
    "    \"\"\"\n",
    "    for n in names:\n",
    "        print(f\"Hello {n}\")\n",
    "\n",
    "greet(\"Syed Shahmir\",\"Sultan\",\"Shahfay\",\"Syed Faizan\")"
   ]
  }
 ],
 "metadata": {
  "kernelspec": {
   "display_name": "base",
   "language": "python",
   "name": "python3"
  },
  "language_info": {
   "codemirror_mode": {
    "name": "ipython",
    "version": 3
   },
   "file_extension": ".py",
   "mimetype": "text/x-python",
   "name": "python",
   "nbconvert_exporter": "python",
   "pygments_lexer": "ipython3",
   "version": "3.11.7"
  }
 },
 "nbformat": 4,
 "nbformat_minor": 2
}
