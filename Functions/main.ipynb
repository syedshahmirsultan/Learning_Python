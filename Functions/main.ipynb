{
 "cells": [
  {
   "cell_type": "code",
   "execution_count": 3,
   "metadata": {},
   "outputs": [
    {
     "name": "stdout",
     "output_type": "stream",
     "text": [
      "Welcome to PIAIC Python Crash Course\n"
     ]
    }
   ],
   "source": [
    "def piaic()-> None :\n",
    "    print(\"Welcome to PIAIC Python Crash Course\")\n",
    "    \n",
    "piaic()"
   ]
  },
  {
   "cell_type": "code",
   "execution_count": 7,
   "metadata": {},
   "outputs": [
    {
     "name": "stdout",
     "output_type": "stream",
     "text": [
      "num1 value 7 and num2 value 8\n",
      "15\n"
     ]
    }
   ],
   "source": [
    "def add_two_numbers(num1 : int, num2:int)-> int:\n",
    "        print(f\"num1 value {num1} and num2 value {num2}\")\n",
    "        return print(num1 +num2)\n",
    "\n",
    "add_two_numbers(7,8)"
   ]
  },
  {
   "cell_type": "code",
   "execution_count": 20,
   "metadata": {},
   "outputs": [
    {
     "name": "stdout",
     "output_type": "stream",
     "text": [
      "10\n"
     ]
    }
   ],
   "source": [
    "# Functions with Optional Parameter\n",
    "def add_two_numbers(num1:int,num2:int = 1)-> int:\n",
    "    return num1 +num2\n",
    "\n",
    "print(add_two_numbers(9))\n",
    "    "
   ]
  },
  {
   "cell_type": "code",
   "execution_count": 14,
   "metadata": {},
   "outputs": [
    {
     "name": "stdout",
     "output_type": "stream",
     "text": [
      "4\n"
     ]
    }
   ],
   "source": [
    "# Lambda Function for Addition\n",
    "a= lambda num1,num2 : num1 +num2\n",
    "\n",
    "print(a(3,2))"
   ]
  },
  {
   "cell_type": "code",
   "execution_count": 19,
   "metadata": {},
   "outputs": [
    {
     "name": "stdout",
     "output_type": "stream",
     "text": [
      "25\n"
     ]
    }
   ],
   "source": [
    "# Lambda Function for Squares\n",
    "\n",
    "a = lambda num : num**2\n",
    "\n",
    "print(a(5))"
   ]
  },
  {
   "cell_type": "code",
   "execution_count": 43,
   "metadata": {},
   "outputs": [
    {
     "name": "stdout",
     "output_type": "stream",
     "text": [
      "<class 'tuple'>\n",
      "(1, 2, 3, 4, 5, 6)\n"
     ]
    }
   ],
   "source": [
    "def abc(*nums)->None:\n",
    "    print(type(nums))\n",
    "    print(nums)\n",
    "    \n",
    "abc(1,2,3,4,5,6)\n",
    "        "
   ]
  },
  {
   "cell_type": "code",
   "execution_count": 52,
   "metadata": {},
   "outputs": [
    {
     "name": "stdout",
     "output_type": "stream",
     "text": [
      "Hello Syed Shahmir\n",
      "Hello Sultan\n",
      "Hello Shahfay\n",
      "Hello Syed Faizan\n"
     ]
    }
   ],
   "source": [
    "from typing import Tuple\n",
    "# By Using \"*\" it deals the argumnet as a Tuple\n",
    "def greet(*names : Tuple[str,...])->None:\n",
    "    \"\"\" This function greets all persons in a tuple\n",
    "    \"\"\"\n",
    "    for n in names:\n",
    "        print(f\"Hello {n}\")\n",
    "\n",
    "greet(\"Syed Shahmir\",\"Sultan\",\"Shahfay\",\"Syed Faizan\")"
   ]
  },
  {
   "cell_type": "code",
   "execution_count": 51,
   "metadata": {},
   "outputs": [
    {
     "name": "stdout",
     "output_type": "stream",
     "text": [
      "{'a': 7, 'b': 9, 'name': 'Shahmir'}\n"
     ]
    }
   ],
   "source": [
    "# By using \"**\" it deals the agrument as a Dictionary\n",
    "from typing import Dict\n",
    "def xyz(**args:Dict[str,str])->None:\n",
    "    print(args)\n",
    "\n",
    "xyz(a=7,b=9,name =\"Shahmir\")"
   ]
  },
  {
   "cell_type": "code",
   "execution_count": 75,
   "metadata": {},
   "outputs": [
    {
     "name": "stdout",
     "output_type": "stream",
     "text": [
      "1 2 (3, 4, 5, 6, 7) {'c': 7, 'd': 8, 'name': 'Shahmir'}\n"
     ]
    }
   ],
   "source": [
    "def my_function(a,b,*args,**xyz)->None:\n",
    "    print(a,b,args,xyz)\n",
    "my_function(1,2, 3,4,5,6,7, c=7,d=8,name=\"Shahmir\")"
   ]
  },
  {
   "cell_type": "code",
   "execution_count": 77,
   "metadata": {},
   "outputs": [
    {
     "name": "stdout",
     "output_type": "stream",
     "text": [
      "1 2 (3, 4, 5, 6) {'x': 100, 'd': 100, 'y': 'Shahmir'}\n"
     ]
    }
   ],
   "source": [
    "def my_function(a:int, b:int, *xyz:Tuple[int,...], **abc:Dict[str,int])->None:\n",
    "    print(a,b,xyz,abc)\n",
    "my_function(1,2,3,4,5,6, x=100,d=100,y=\"Shahmir\")"
   ]
  },
  {
   "cell_type": "code",
   "execution_count": 79,
   "metadata": {},
   "outputs": [
    {
     "data": {
      "text/plain": [
       "120"
      ]
     },
     "execution_count": 79,
     "metadata": {},
     "output_type": "execute_result"
    }
   ],
   "source": [
    "def factorial(x: int) -> int:\n",
    "    \"\"\"This is a recursive function\n",
    "    to find the factorial of an integer\"\"\"\n",
    "    if x == 1:\n",
    "        return 1\n",
    "    else:\n",
    "        return (x * factorial(x-1))\n",
    "\n",
    "factorial(5)"
   ]
  }
 ],
 "metadata": {
  "kernelspec": {
   "display_name": "base",
   "language": "python",
   "name": "python3"
  },
  "language_info": {
   "codemirror_mode": {
    "name": "ipython",
    "version": 3
   },
   "file_extension": ".py",
   "mimetype": "text/x-python",
   "name": "python",
   "nbconvert_exporter": "python",
   "pygments_lexer": "ipython3",
   "version": "3.11.7"
  }
 },
 "nbformat": 4,
 "nbformat_minor": 2
}
