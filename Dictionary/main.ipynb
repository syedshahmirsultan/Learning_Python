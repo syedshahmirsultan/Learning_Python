{
 "cells": [
  {
   "cell_type": "code",
   "execution_count": 3,
   "metadata": {},
   "outputs": [
    {
     "name": "stdout",
     "output_type": "stream",
     "text": [
      "{1, 2, 3, 4, 5, 6, 7}\n"
     ]
    }
   ],
   "source": [
    "data :set = {1,1,2,3,4,5,5,6,7}\n",
    "# Set does not return the same elements twice\n",
    "print(data)"
   ]
  },
  {
   "cell_type": "code",
   "execution_count": 4,
   "metadata": {},
   "outputs": [
    {
     "ename": "TypeError",
     "evalue": "'set' object is not subscriptable",
     "output_type": "error",
     "traceback": [
      "\u001b[1;31m---------------------------------------------------------------------------\u001b[0m",
      "\u001b[1;31mTypeError\u001b[0m                                 Traceback (most recent call last)",
      "Cell \u001b[1;32mIn[4], line 2\u001b[0m\n\u001b[0;32m      1\u001b[0m data :\u001b[38;5;28mset\u001b[39m \u001b[38;5;241m=\u001b[39m {\u001b[38;5;241m1\u001b[39m,\u001b[38;5;241m1\u001b[39m,\u001b[38;5;241m2\u001b[39m,\u001b[38;5;241m3\u001b[39m,\u001b[38;5;241m4\u001b[39m,\u001b[38;5;241m5\u001b[39m,\u001b[38;5;241m5\u001b[39m,\u001b[38;5;241m6\u001b[39m,\u001b[38;5;241m7\u001b[39m}\n\u001b[1;32m----> 2\u001b[0m \u001b[38;5;28mprint\u001b[39m(data[\u001b[38;5;241m0\u001b[39m])\n",
      "\u001b[1;31mTypeError\u001b[0m: 'set' object is not subscriptable"
     ]
    }
   ],
   "source": [
    "data :set = {1,1,2,3,4,5,5,6,7}\n",
    "print(data[0])"
   ]
  },
  {
   "cell_type": "code",
   "execution_count": 14,
   "metadata": {},
   "outputs": [
    {
     "name": "stdout",
     "output_type": "stream",
     "text": [
      "{'name': 'Shahmir', 'fname': 'Imran', 'education': 'High School 3rd Year'}\n",
      "High School 3rd Year\n"
     ]
    }
   ],
   "source": [
    "from typing import Dict\n",
    "\n",
    "data: Dict[str,str] = {\n",
    "\"name\" :\"Shahmir\",\n",
    "\"fname\": \"Imran\",\n",
    "\"education\" : \"High School 3rd Year\"\n",
    "}\n",
    "\n",
    "print(data)\n",
    "print(data[\"education\"])"
   ]
  },
  {
   "cell_type": "code",
   "execution_count": 15,
   "metadata": {},
   "outputs": [
    {
     "name": "stdout",
     "output_type": "stream",
     "text": [
      "{'name': 'Shahmir', 'fname': 'Imran', 1: 'High School 3rd Year'}\n",
      "High School 3rd Year\n"
     ]
    }
   ],
   "source": [
    "from typing import Dict\n",
    "\n",
    "data: Dict[str,str] = {\n",
    "\"name\" :\"Shahmir\",\n",
    "\"fname\": \"Imran\",\n",
    "1 : \"High School 3rd Year\"\n",
    "}\n",
    "\n",
    "print(data)\n",
    "print(data[1])"
   ]
  },
  {
   "cell_type": "code",
   "execution_count": 18,
   "metadata": {},
   "outputs": [
    {
     "name": "stdout",
     "output_type": "stream",
     "text": [
      "Imran\n"
     ]
    }
   ],
   "source": [
    "from typing import Union,Dict,Optional\n",
    "import pprint\n",
    "\n",
    "Key = Union[str,int]\n",
    "Value =Union[int,str,dict,bool,tuple]\n",
    "\n",
    "data : Dict[Key,Value] = {\n",
    "\"name\" :\"Shahmir\",\n",
    "\"fname\": \"Imran\",\n",
    "\"education\" : \"High School 3rd Year\"\n",
    "}\n",
    "print(data[\"fname\"])"
   ]
  },
  {
   "cell_type": "code",
   "execution_count": 53,
   "metadata": {},
   "outputs": [
    {
     "name": "stdout",
     "output_type": "stream",
     "text": [
      "{'education': 'High School 3rd Year', 'fname': 'Imran', 'name': 'Shahmir'}\n",
      "Shahmir\n",
      "Imran\n",
      "High School 3rd Year\n"
     ]
    }
   ],
   "source": [
    "from typing import Dict, Union, Optional\n",
    "import pprint\n",
    "\n",
    "\n",
    "Key = Union[int,str] # create custom type\n",
    "Value = Union[int, str, list, dict, tuple, set]\n",
    "\n",
    "data : Dict[Key,Value] = {\n",
    "                        \"name\" :\"Shahmir\",\n",
    "                        \"fname\": \"Imran\",\n",
    "                        \"education\" : \"High School 3rd Year\"\n",
    "                        #[1,2,3] : \"Pakistan\", # error\n",
    "                        # (1,2,3) : \"Pakistan\", #error\n",
    "                        # {1,2,3} : \"pakistan\", #error\n",
    "                        }\n",
    "\n",
    "pprint.pprint(data)\n",
    "print(data[\"name\"])\n",
    "print(data['fname'])\n",
    "print(data['education'])"
   ]
  },
  {
   "cell_type": "code",
   "execution_count": 54,
   "metadata": {},
   "outputs": [
    {
     "name": "stdout",
     "output_type": "stream",
     "text": [
      "1\n",
      "2\n"
     ]
    }
   ],
   "source": [
    "from typing import Dict, Union, Optional\n",
    "\n",
    "\n",
    "Key = Union[int,str] # create custom type\n",
    "Value = Union[int, str, list, dict, tuple, set]\n",
    "\n",
    "# List                    0                1            2\n",
    "data : Dict[Key,Value] = {\n",
    "                        \"fname\":\"Muhammad Aslam\",\n",
    "                        \"name\":\"Muhammad Qasim\",\n",
    "                        \"education\": \"MSDS\",\n",
    "                        \"abc\" : [1,2,3],\n",
    "                        'xyz': {1,2,3},\n",
    "                        'efg' : (1,2,3),\n",
    "                        'cde' : {\"a\":1, \"b\":2}\n",
    "                        # [1,2,3] : \"Pakistan\", # error\n",
    "                        # (1,2,3) : \"Pakistan\", #error\n",
    "                        # {1,2,3} : \"pakistan\", #error\n",
    "                        }\n",
    "\n",
    "print(data['abc'][0])\n",
    "print(data['cde']['b'])"
   ]
  },
  {
   "cell_type": "code",
   "execution_count": 30,
   "metadata": {},
   "outputs": [
    {
     "name": "stdout",
     "output_type": "stream",
     "text": [
      "{'name': 'Shahmir', 'fname': 'Imran Ali', 'age': 17.5}\n",
      "{'name': 'Haider', 'fname': 'Imran Ali', 'age': 17.5}\n"
     ]
    }
   ],
   "source": [
    "from typing import Dict,Union\n",
    "Key = Union[str,int]\n",
    "Value = Union[tuple,int,str,list,dict]\n",
    "\n",
    "data:Dict[Key,Value] = {}\n",
    "data[\"name\"] = \"Shahmir\"\n",
    "data[\"fname\"] = \"Imran Ali\"\n",
    "data[\"age\"] = 17.5\n",
    "print(data)\n",
    "data[\"name\"] = \"Haider\"\n",
    "print(data)"
   ]
  },
  {
   "cell_type": "code",
   "execution_count": 31,
   "metadata": {},
   "outputs": [
    {
     "name": "stdout",
     "output_type": "stream",
     "text": [
      "NA\n",
      "Shahmir\n"
     ]
    }
   ],
   "source": [
    "from typing import Union,Dict,Optional\n",
    "import pprint\n",
    "\n",
    "Key = Union[str,int]\n",
    "Value =Union[int,str,dict,bool,tuple]\n",
    "\n",
    "data : Dict[Key,Value] = {\n",
    "\"name\" :\"Shahmir\",\n",
    "\"fname\": \"Imran\",\n",
    "\"education\" : \"High School 3rd Year\"\n",
    "}\n",
    "print(data.get(\"friend\",\"NA\"))\n",
    "print(data.get(\"name\",\"NA\"))\n"
   ]
  },
  {
   "cell_type": "code",
   "execution_count": 37,
   "metadata": {},
   "outputs": [
    {
     "name": "stdout",
     "output_type": "stream",
     "text": [
      "Shahmir\n",
      "Imran\n",
      "High School 3rd Year\n"
     ]
    }
   ],
   "source": [
    "from typing import Union,Dict,Optional\n",
    "Key = Union[str,int]\n",
    "Value =Union[int,str,dict,bool,tuple]\n",
    "\n",
    "data : Dict[Key,Value] = {\n",
    "\"name\" :\"Shahmir\",\n",
    "\"fname\": \"Imran\",\n",
    "\"education\" : \"High School 3rd Year\"\n",
    "}\n",
    "\n",
    "for d in data:\n",
    "    print(d)"
   ]
  },
  {
   "cell_type": "code",
   "execution_count": 45,
   "metadata": {},
   "outputs": [
    {
     "name": "stdout",
     "output_type": "stream",
     "text": [
      "dict_keys(['name', 'fname', 'education'])\n",
      "dict_values(['Shahmir', 'Imran', 'High School 3rd Year'])\n",
      "dict_items([('name', 'Shahmir'), ('fname', 'Imran'), ('education', 'High School 3rd Year')])\n"
     ]
    },
    {
     "data": {
      "text/plain": [
       "[('name', 'Shahmir'),\n",
       " ('fname', 'Imran'),\n",
       " ('education', 'High School 3rd Year')]"
      ]
     },
     "execution_count": 45,
     "metadata": {},
     "output_type": "execute_result"
    }
   ],
   "source": [
    "from typing import Union,Dict\n",
    "\n",
    "Key = Union[str,int]\n",
    "Value =Union[int,str,dict,bool,tuple]\n",
    "\n",
    "data : Dict[Key,Value] = {\n",
    "\"name\" :\"Shahmir\",\n",
    "\"fname\": \"Imran\",\n",
    "\"education\" : \"High School 3rd Year\"\n",
    "}\n",
    "print(data.keys())\n",
    "print(data.values())\n",
    "print(data.items())\n",
    "data1=list(zip(data.keys(),data.values()))\n",
    "data1"
   ]
  },
  {
   "cell_type": "code",
   "execution_count": 47,
   "metadata": {},
   "outputs": [
    {
     "name": "stdout",
     "output_type": "stream",
     "text": [
      "name: Shahmir\n",
      "fname: Imran\n",
      "education: High School 3rd Year\n"
     ]
    }
   ],
   "source": [
    "from typing import Union,Dict\n",
    "\n",
    "Key = Union[str,int]\n",
    "Value =Union[int,str,dict,bool,tuple]\n",
    "\n",
    "data : Dict[Key,Value] = {\n",
    "\"name\" :\"Shahmir\",\n",
    "\"fname\": \"Imran\",\n",
    "\"education\" : \"High School 3rd Year\"\n",
    "}\n",
    "\n",
    "for k,v in data.items():\n",
    "    print(k+\":\",v)"
   ]
  },
  {
   "cell_type": "code",
   "execution_count": 49,
   "metadata": {},
   "outputs": [
    {
     "name": "stdout",
     "output_type": "stream",
     "text": [
      "9 7\n"
     ]
    }
   ],
   "source": [
    "a:int = 7\n",
    "b:int = 9\n",
    "a,b =b,a #  Shuffle\n",
    "\n",
    "print(a,b)\n"
   ]
  },
  {
   "cell_type": "code",
   "execution_count": 52,
   "metadata": {},
   "outputs": [
    {
     "data": {
      "text/plain": [
       "{'id': None, 'education': None, 'name': None, 'course': None}"
      ]
     },
     "execution_count": 52,
     "metadata": {},
     "output_type": "execute_result"
    }
   ],
   "source": [
    "keys :list[str] = [\"id\",\"education\",\"name\",\"course\"]\n",
    "data : dict[Key,Value] = {}\n",
    "data = data.fromkeys(keys)\n",
    "\n",
    "data"
   ]
  },
  {
   "cell_type": "code",
   "execution_count": 55,
   "metadata": {},
   "outputs": [
    {
     "name": "stdout",
     "output_type": "stream",
     "text": [
      "{'name': 'Shahmir', 'fname': 'Imran', 'education': 'High School 3rd Year'}\n",
      "After {}\n"
     ]
    }
   ],
   "source": [
    "from typing import Union,Dict\n",
    "\n",
    "Key = Union[str,int]\n",
    "Value =Union[int,str,dict,bool,tuple]\n",
    "\n",
    "data : Dict[Key,Value] = {\n",
    "\"name\" :\"Shahmir\",\n",
    "\"fname\": \"Imran\",\n",
    "\"education\" : \"High School 3rd Year\"\n",
    "}\n",
    "\n",
    "print(data)\n",
    "\n",
    "data.clear()\n",
    "print(\"After\", data)\n",
    "\n"
   ]
  },
  {
   "cell_type": "code",
   "execution_count": 57,
   "metadata": {},
   "outputs": [
    {
     "name": "stdout",
     "output_type": "stream",
     "text": [
      "{'name': 'Shahmir', 'fname': 'Imran', 'education': 'High School 3rd Year'}\n"
     ]
    },
    {
     "ename": "NameError",
     "evalue": "name 'data' is not defined",
     "output_type": "error",
     "traceback": [
      "\u001b[1;31m---------------------------------------------------------------------------\u001b[0m",
      "\u001b[1;31mNameError\u001b[0m                                 Traceback (most recent call last)",
      "Cell \u001b[1;32mIn[57], line 14\u001b[0m\n\u001b[0;32m     12\u001b[0m \u001b[38;5;28mprint\u001b[39m(data)\n\u001b[0;32m     13\u001b[0m \u001b[38;5;28;01mdel\u001b[39;00m data\n\u001b[1;32m---> 14\u001b[0m \u001b[38;5;28mprint\u001b[39m(\u001b[38;5;124m\"\u001b[39m\u001b[38;5;124mAfter\u001b[39m\u001b[38;5;124m\"\u001b[39m, data)\n",
      "\u001b[1;31mNameError\u001b[0m: name 'data' is not defined"
     ]
    }
   ],
   "source": [
    "from typing import Union,Dict\n",
    "\n",
    "Key = Union[str,int]\n",
    "Value =Union[int,str,dict,bool,tuple]\n",
    "\n",
    "data : Dict[Key,Value] = {\n",
    "\"name\" :\"Shahmir\",\n",
    "\"fname\": \"Imran\",\n",
    "\"education\" : \"High School 3rd Year\"\n",
    "}\n",
    "\n",
    "print(data)\n",
    "del data\n",
    "print(\"After\", data)"
   ]
  },
  {
   "cell_type": "code",
   "execution_count": 59,
   "metadata": {},
   "outputs": [
    {
     "name": "stdout",
     "output_type": "stream",
     "text": [
      "Before {'name': 'Shahmir', 'fname': 'Imran', 'education': 'High School 3rd Year'}\n",
      "High School 3rd Year\n",
      "After {'name': 'Shahmir', 'fname': 'Imran'}\n"
     ]
    }
   ],
   "source": [
    "from typing import Union,Dict\n",
    "\n",
    "Key = Union[str,int]\n",
    "Value =Union[int,str,dict,bool,tuple]\n",
    "\n",
    "data : Dict[Key,Value] = {\n",
    "\"name\" :\"Shahmir\",\n",
    "\"fname\": \"Imran\",\n",
    "\"education\" : \"High School 3rd Year\"\n",
    "}\n",
    "\n",
    "print(\"Before\", data)\n",
    "\n",
    "a : str = data.pop(\"education\")\n",
    "print(a)\n",
    "print(\"After\",data)\n"
   ]
  },
  {
   "cell_type": "code",
   "execution_count": 61,
   "metadata": {},
   "outputs": [
    {
     "name": "stdout",
     "output_type": "stream",
     "text": [
      "Before {'name': 'Shahmir', 'fname': 'Imran', 'education': 'High School 3rd Year'}\n",
      "('education', 'High School 3rd Year')\n",
      "{'name': 'Shahmir', 'fname': 'Imran'}\n"
     ]
    }
   ],
   "source": [
    "from typing import Union,Dict\n",
    "\n",
    "Key = Union[str,int]\n",
    "Value =Union[int,str,dict,bool,tuple]\n",
    "\n",
    "data : Dict[Key,Value] = {\n",
    "\"name\" :\"Shahmir\",\n",
    "\"fname\": \"Imran\",\n",
    "\"education\" : \"High School 3rd Year\"\n",
    "}\n",
    "\n",
    "print(\"Before\", data)\n",
    "\n",
    "a:str = data.popitem()\n",
    "print(a)\n",
    "print(data)"
   ]
  },
  {
   "cell_type": "code",
   "execution_count": 63,
   "metadata": {},
   "outputs": [
    {
     "name": "stdout",
     "output_type": "stream",
     "text": [
      "NA\n"
     ]
    }
   ],
   "source": [
    "from typing import Union,Dict\n",
    "\n",
    "Key = Union[str,int]\n",
    "Value =Union[int,str,dict,bool,tuple]\n",
    "\n",
    "data : Dict[Key,Value] = {\n",
    "\"name\" :\"Shahmir\",\n",
    "\"fname\": \"Imran\",\n",
    "\"education\" : \"High School 3rd Year\"\n",
    "}\n",
    "\n",
    "a : str = data.get(\"Pakistan\",\"NA\")\n",
    "print(a)"
   ]
  },
  {
   "cell_type": "code",
   "execution_count": 68,
   "metadata": {},
   "outputs": [
    {
     "name": "stdout",
     "output_type": "stream",
     "text": [
      "Before {'fname': 'Syed Imran', 'name': 'Shahmir', 'education': 'High School'}\n",
      "Empty Value\n",
      "After {'fname': 'Syed Imran', 'name': 'Shahmir', 'education': 'High School', 'Pakistan': 'Empty Value'}\n"
     ]
    }
   ],
   "source": [
    "from typing import Dict, Union, Optional\n",
    "import pprint\n",
    "\n",
    "\n",
    "Key = Union[int,str] # create custom type\n",
    "Value = Union[int, str, list, dict, tuple, set]\n",
    "\n",
    "data : Dict[Key,Value] = {\n",
    "                        \"fname\":\"Syed Imran\",\n",
    "                        \"name\":\"Shahmir\",\n",
    "                        \"education\": \"High School\"}\n",
    "\n",
    "print(\"Before\", data)\n",
    "\n",
    "a :str = data.setdefault(\"Pakistan\",\"Empty Value\")\n",
    "print(a)\n",
    "print(\"After\", data)"
   ]
  },
  {
   "cell_type": "code",
   "execution_count": 67,
   "metadata": {},
   "outputs": [
    {
     "data": {
      "text/plain": [
       "{'fname': 'Syed Imran Ali',\n",
       " 'name': 'Syed Shahmir',\n",
       " 'education': 'High School',\n",
       " 'age': 17,\n",
       " 'Height': '6 Feet'}"
      ]
     },
     "execution_count": 67,
     "metadata": {},
     "output_type": "execute_result"
    }
   ],
   "source": [
    "Key = Union[int,str] # create custom type\n",
    "Value = Union[int, str, list, dict, tuple, set]\n",
    "\n",
    "data : Dict[Key,Value] = {\n",
    "                        \"fname\":\"Syed Imran Ali\",\n",
    "                        \"name\":\"Shahmir\",\n",
    "                        \"education\": \"High School\"}\n",
    "data1 : Dict[Key,Value] = {\"name\":\"Syed Shahmir\",\n",
    "                           \"age\":17,\n",
    "                           \"Height\": \"6 Feet\"}\n",
    "\n",
    "data.update(data1)\n",
    "data"
   ]
  },
  {
   "cell_type": "code",
   "execution_count": 70,
   "metadata": {},
   "outputs": [
    {
     "data": {
      "text/plain": [
       "True"
      ]
     },
     "execution_count": 70,
     "metadata": {},
     "output_type": "execute_result"
    }
   ],
   "source": [
    "\"Qasim\" in \"\"\"My Name is Muhammad Qasim, I'm working as Chief Data Scientist!\"\"\""
   ]
  },
  {
   "cell_type": "code",
   "execution_count": 73,
   "metadata": {},
   "outputs": [
    {
     "data": {
      "text/plain": [
       "True"
      ]
     },
     "execution_count": 73,
     "metadata": {},
     "output_type": "execute_result"
    }
   ],
   "source": [
    "\"qasim\" not in \"\"\"My Name is Muhammad Qasim, I'm working as Chief Data Scientist!\"\"\""
   ]
  },
  {
   "cell_type": "code",
   "execution_count": 74,
   "metadata": {},
   "outputs": [
    {
     "name": "stdout",
     "output_type": "stream",
     "text": [
      "[{'color': 'green', 'points': 5, 'speed': 'slow'}]\n"
     ]
    }
   ],
   "source": [
    "aliens : list[Dict[str,str]] = []\n",
    "\n",
    "new_aliens : Dict[str,str] = {'color': 'green', 'points': 5, 'speed': 'slow'}\n",
    "\n",
    "aliens.append(new_aliens)\n",
    "print(aliens)"
   ]
  },
  {
   "cell_type": "code",
   "execution_count": 89,
   "metadata": {},
   "outputs": [
    {
     "name": "stdout",
     "output_type": "stream",
     "text": [
      "2\n"
     ]
    }
   ],
   "source": [
    "from typing import TypedDict, Dict,List,Set,Tuple\n",
    "\n",
    "cdeDataType = TypedDict(\n",
    "    \"cdeDataType\",{\n",
    "        \"a\" : int,\n",
    "        \"b\" : int\n",
    "    }\n",
    ")\n",
    "myDataType = TypedDict(\n",
    "    \"myDataType\",{\n",
    "         \"fname\": str,\n",
    "        \"name\": str,\n",
    "        \"education\": str,\n",
    "        \"abc\": List[int],\n",
    "        'xyz': Set[int],\n",
    "        'efg': Tuple,\n",
    "        \"cde\" : cdeDataType\n",
    "    }\n",
    ")\n",
    "\n",
    "data: myDataType = {\n",
    "    \"fname\": \"Muhammad Aslam\",\n",
    "    \"name\": \"Muhammad Qasim\",\n",
    "    \"education\": \"MSDS\",\n",
    "    \"abc\": [1, 2, 3],\n",
    "    'xyz': {1, 2, 3},\n",
    "    'efg': (1, 2, 3),\n",
    "    'cde': {\"a\": 1, \"b\": 2}\n",
    "}\n",
    "print(data['cde']['b'])"
   ]
  }
 ],
 "metadata": {
  "kernelspec": {
   "display_name": "base",
   "language": "python",
   "name": "python3"
  },
  "language_info": {
   "codemirror_mode": {
    "name": "ipython",
    "version": 3
   },
   "file_extension": ".py",
   "mimetype": "text/x-python",
   "name": "python",
   "nbconvert_exporter": "python",
   "pygments_lexer": "ipython3",
   "version": "3.11.7"
  }
 },
 "nbformat": 4,
 "nbformat_minor": 2
}
