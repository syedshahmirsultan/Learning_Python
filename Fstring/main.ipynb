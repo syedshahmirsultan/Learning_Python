{
 "cells": [
  {
   "cell_type": "code",
   "execution_count": 1,
   "metadata": {},
   "outputs": [
    {
     "name": "stdout",
     "output_type": "stream",
     "text": [
      "Shahmir\n"
     ]
    }
   ],
   "source": [
    "name:str = \"Shahmir\"\n",
    "print(name)"
   ]
  },
  {
   "cell_type": "code",
   "execution_count": 2,
   "metadata": {},
   "outputs": [
    {
     "name": "stdout",
     "output_type": "stream",
     "text": [
      "PIAIC \"Student Card\" \n",
      " father Name\n"
     ]
    }
   ],
   "source": [
    "message :str = 'PIAIC \"Student Card\" \\n father Name'\n",
    "print(message)"
   ]
  },
  {
   "cell_type": "code",
   "execution_count": 3,
   "metadata": {},
   "outputs": [
    {
     "name": "stdout",
     "output_type": "stream",
     "text": [
      "abc\n",
      "a6\n",
      "a6\n"
     ]
    }
   ],
   "source": [
    "print(\"a\"+\"b\"+\"c\")\n",
    "print(\"a\"+\"6\")\n",
    "print(\"a\" + str(6))"
   ]
  },
  {
   "cell_type": "code",
   "execution_count": 4,
   "metadata": {},
   "outputs": [
    {
     "name": "stdout",
     "output_type": "stream",
     "text": [
      "17\n",
      "####\n"
     ]
    }
   ],
   "source": [
    "print(7+8+2)\n",
    "print(4*\"#\")"
   ]
  },
  {
   "cell_type": "code",
   "execution_count": 5,
   "metadata": {},
   "outputs": [
    {
     "name": "stdout",
     "output_type": "stream",
     "text": [
      "17\n"
     ]
    }
   ],
   "source": [
    "print(7 + \\\n",
    "      8 + \\\n",
    "        2)"
   ]
  },
  {
   "cell_type": "markdown",
   "metadata": {},
   "source": [
    "### Fstring in Python"
   ]
  },
  {
   "cell_type": "code",
   "execution_count": 6,
   "metadata": {},
   "outputs": [
    {
     "name": "stdout",
     "output_type": "stream",
     "text": [
      "\n",
      "Student Name : Syed Shahmir Sultan \n",
      "Father's Name : Syed Imran Ali Shah \n",
      "Education : High School 3rd Year \n",
      "Age : 17\n",
      "\n"
     ]
    }
   ],
   "source": [
    "name : str = 'Syed Shahmir Sultan'\n",
    "fname : str = \"Syed Imran Ali Shah\"\n",
    "education : str = \"High School 3rd Year\"\n",
    "age : int = 17\n",
    "\n",
    "\n",
    "# It doesn't matter if we use single or double quotations\n",
    "card:str = f'''\n",
    "Student Name : {name} \n",
    "Father's Name : {fname} \n",
    "Education : {education} \n",
    "Age : {age}\n",
    "'''\n",
    "print(card)"
   ]
  },
  {
   "cell_type": "code",
   "execution_count": 7,
   "metadata": {},
   "outputs": [
    {
     "name": "stdout",
     "output_type": "stream",
     "text": [
      "\n",
      "Student Name : Syed Shahmir Sultan \n",
      "Father's Name : Syed Imran Ali Shah \n",
      "Education : High School 3rd Year \n",
      "Age : 17\n",
      "\n",
      "Total : 20\n",
      "\n"
     ]
    }
   ],
   "source": [
    "name : str = 'Syed Shahmir Sultan'\n",
    "fname : str = \"Syed Imran Ali Shah\"\n",
    "education : str = \"High School 3rd Year\"\n",
    "age : int = 17\n",
    "\n",
    "\n",
    "# It doesn't matter if you use single or double quotations\n",
    "card:str = f'''\n",
    "Student Name : {name} \n",
    "Father's Name : {fname} \n",
    "Education : {education} \n",
    "Age : {age}\n",
    "\n",
    "Total : {2+8+10}\n",
    "'''\n",
    "print(card)"
   ]
  },
  {
   "cell_type": "code",
   "execution_count": 8,
   "metadata": {},
   "outputs": [
    {
     "name": "stdout",
     "output_type": "stream",
     "text": [
      "\n",
      "Student Name : Syed Shahmir Sultan\n",
      "Father's Name : Syed Imran Ali Shah\n",
      "Education :  High School 3rd Year\n",
      "Age : 17\n",
      "\n"
     ]
    }
   ],
   "source": [
    "name : str = 'Syed Shahmir Sultan'\n",
    "fname : str = \"Syed Imran Ali Shah\"\n",
    "education : str = \"High School 3rd Year\"\n",
    "age : int = 17\n",
    "\n",
    "\n",
    "card:str = '''\n",
    "Student Name : %s\n",
    "Father's Name : %s\n",
    "Education :  %s\n",
    "Age : %d\n",
    "''' %(name,fname,education,age)\n",
    "print(card)"
   ]
  },
  {
   "cell_type": "code",
   "execution_count": 9,
   "metadata": {},
   "outputs": [
    {
     "name": "stdout",
     "output_type": "stream",
     "text": [
      "pakistan value a = 7 and value b = 5\n"
     ]
    }
   ],
   "source": [
    "a=7\n",
    "b=5\n",
    "text: str =\"pakistan value a = {} and value b = {}\".format(a,b)\n",
    "print(text)"
   ]
  },
  {
   "cell_type": "code",
   "execution_count": 11,
   "metadata": {},
   "outputs": [
    {
     "name": "stdout",
     "output_type": "stream",
     "text": [
      "\n",
      "PIAIC Student Card\n",
      "Student Name : Syed Imran Ali Shah\n",
      "Father's Name: Syed Shahmir Sultan\n",
      "Age: High School 3rd Year\n",
      "Education : 17\n",
      "\n"
     ]
    }
   ],
   "source": [
    "name : str = 'Syed Shahmir Sultan'\n",
    "fname : str = \"Syed Imran Ali Shah\"\n",
    "education : str = \"High School 3rd Year\"\n",
    "age : int = 17\n",
    "\n",
    "\n",
    "card : str = \"\"\"\n",
    "PIAIC Student Card\n",
    "Student Name : {}\n",
    "Father's Name: {}\n",
    "Age: {}\n",
    "Education : {}\n",
    "\"\"\".format(fname, name, education, age)\n",
    "print(card)"
   ]
  },
  {
   "cell_type": "code",
   "execution_count": 12,
   "metadata": {},
   "outputs": [
    {
     "name": "stdout",
     "output_type": "stream",
     "text": [
      "\n",
      "PIAIC Student Card\n",
      "Student Name : Syed Shahmir Sultan\n",
      "Father's Name: Syed Imran Ali Shah\n",
      "Age: 17\n",
      "Education : High School 3rd Year\n",
      "\n"
     ]
    }
   ],
   "source": [
    "name : str = 'Syed Shahmir Sultan'\n",
    "fname : str = \"Syed Imran Ali Shah\"\n",
    "education : str = \"High School 3rd Year\"\n",
    "age : int = 17\n",
    "\n",
    "\n",
    "card : str = \"\"\"\n",
    "PIAIC Student Card\n",
    "Student Name : {0}\n",
    "Father's Name: {2}\n",
    "Age: {1}\n",
    "Education : {3}\n",
    "\"\"\".format( name,age,fname,education)\n",
    "print(card)"
   ]
  },
  {
   "cell_type": "code",
   "execution_count": 14,
   "metadata": {},
   "outputs": [
    {
     "name": "stdout",
     "output_type": "stream",
     "text": [
      "\n",
      "PIAIC Student Card\n",
      "Student Name : Syed Shahmir Sultan\n",
      "Father's Name: Syed Imran Ali Shah\n",
      "Age: 17\n",
      "Education : High School 3rd Year\n",
      "\n"
     ]
    }
   ],
   "source": [
    "name : str = 'Syed Shahmir Sultan'\n",
    "fname : str = \"Syed Imran Ali Shah\"\n",
    "education : str = \"High School 3rd Year\"\n",
    "age : int = 17\n",
    "card : str = \"\"\"\n",
    "PIAIC Student Card\n",
    "Student Name : {a}\n",
    "Father's Name: {b}\n",
    "Age: {c}\n",
    "Education : {d}\n",
    "\"\"\".format( a=name,c=age,b=fname,d=education)\n",
    "print(card)"
   ]
  },
  {
   "cell_type": "code",
   "execution_count": 15,
   "metadata": {},
   "outputs": [
    {
     "name": "stdout",
     "output_type": "stream",
     "text": [
      "My Name is Shahmir\n",
      "30\n"
     ]
    }
   ],
   "source": [
    "student_code:str = '''\n",
    "print(\"My Name is Shahmir\")\n",
    "\n",
    "a :int = 10\n",
    "b:int = 20\n",
    "c:int = a +b\n",
    "print(c)\n",
    "'''\n",
    "exec(student_code)"
   ]
  },
  {
   "cell_type": "code",
   "execution_count": 49,
   "metadata": {},
   "outputs": [
    {
     "name": "stdout",
     "output_type": "stream",
     "text": [
      "  syed shahmir sultan  \n",
      "  syed shahmir sultan  \n",
      "  Syed Shahmir Sultan  \n",
      "  SYED SHAHMIR SULTAN  \n",
      "  syed shahmir sultan  \n",
      "23\n",
      "11\n",
      "20\n",
      "2\n",
      "  SyeD sHAhmIr SulTaN  \n",
      "  SyeD sHAhmIr SulTaN\n",
      "SyeD sHAhmIr SulTaN  \n",
      "SyeD sHAhmIr SulTaN\n"
     ]
    }
   ],
   "source": [
    "name : str = \"  SyeD sHAhmIr SulTaN  \"\n",
    "\n",
    "# String Methds\n",
    "print(name.capitalize())\n",
    "print(name.lower())\n",
    "print(name.title())\n",
    "print(name.upper())\n",
    "print(name.casefold())\n",
    "print(len(name))\n",
    "print(name.find(\"m\"))\n",
    "print(name.index(\"N\"))\n",
    "print(name.count(\"S\"))\n",
    "print(name.format())\n",
    "print(name.rstrip())\n",
    "print(name.lstrip())\n",
    "print(name.strip())"
   ]
  },
  {
   "cell_type": "code",
   "execution_count": 50,
   "metadata": {},
   "outputs": [
    {
     "data": {
      "text/plain": [
       "'shahmir-portfolio1.vercel.app/'"
      ]
     },
     "execution_count": 50,
     "metadata": {},
     "output_type": "execute_result"
    }
   ],
   "source": [
    "nostarch_url:str = 'https://shahmir-portfolio1.vercel.app/'\n",
    "nostarch_url.removeprefix('https://')\n"
   ]
  }
 ],
 "metadata": {
  "kernelspec": {
   "display_name": "base",
   "language": "python",
   "name": "python3"
  },
  "language_info": {
   "codemirror_mode": {
    "name": "ipython",
    "version": 3
   },
   "file_extension": ".py",
   "mimetype": "text/x-python",
   "name": "python",
   "nbconvert_exporter": "python",
   "pygments_lexer": "ipython3",
   "version": "3.11.7"
  }
 },
 "nbformat": 4,
 "nbformat_minor": 2
}
