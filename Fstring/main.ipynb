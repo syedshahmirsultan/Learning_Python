{
 "cells": [
  {
   "cell_type": "code",
   "execution_count": 27,
   "metadata": {},
   "outputs": [
    {
     "name": "stdout",
     "output_type": "stream",
     "text": [
      "Shahmir\n"
     ]
    }
   ],
   "source": [
    "name:str = \"Shahmir\"\n",
    "print(name)"
   ]
  },
  {
   "cell_type": "code",
   "execution_count": 28,
   "metadata": {},
   "outputs": [
    {
     "name": "stdout",
     "output_type": "stream",
     "text": [
      "PIAIC \"Student Card\" \n",
      " father Name\n"
     ]
    }
   ],
   "source": [
    "message :str = 'PIAIC \"Student Card\" \\n father Name'\n",
    "print(message)"
   ]
  },
  {
   "cell_type": "code",
   "execution_count": 29,
   "metadata": {},
   "outputs": [
    {
     "name": "stdout",
     "output_type": "stream",
     "text": [
      "abc\n",
      "a6\n",
      "a6\n"
     ]
    }
   ],
   "source": [
    "print(\"a\"+\"b\"+\"c\")\n",
    "print(\"a\"+\"6\")\n",
    "print(\"a\" + str(6))"
   ]
  },
  {
   "cell_type": "code",
   "execution_count": 30,
   "metadata": {},
   "outputs": [
    {
     "name": "stdout",
     "output_type": "stream",
     "text": [
      "17\n",
      "####\n"
     ]
    }
   ],
   "source": [
    "print(7+8+2)\n",
    "print(4*\"#\")"
   ]
  },
  {
   "cell_type": "code",
   "execution_count": 31,
   "metadata": {},
   "outputs": [
    {
     "name": "stdout",
     "output_type": "stream",
     "text": [
      "17\n"
     ]
    }
   ],
   "source": [
    "print(7 + \\\n",
    "      8 + \\\n",
    "        2)"
   ]
  },
  {
   "cell_type": "markdown",
   "metadata": {},
   "source": [
    "### Fstring in Python"
   ]
  },
  {
   "cell_type": "code",
   "execution_count": 44,
   "metadata": {},
   "outputs": [
    {
     "name": "stdout",
     "output_type": "stream",
     "text": [
      "\n",
      "Student Name : Syed Shahmir Sultan \n",
      "Father's Name : Syed Imran Ali Shah \n",
      "Education : High School 3rd Year \n",
      "Age : 17\n",
      "\n"
     ]
    }
   ],
   "source": [
    "name : str = 'Syed Shahmir Sultan'\n",
    "fname : str = \"Syed Imran Ali Shah\"\n",
    "education : str = \"High School 3rd Year\"\n",
    "age : int = 17\n",
    "\n",
    "\n",
    "# It doesn't matter if we use single or double quotations\n",
    "card:str = f'''\n",
    "Student Name : {name} \n",
    "Father's Name : {fname} \n",
    "Education : {education} \n",
    "Age : {age}\n",
    "'''\n",
    "print(card)"
   ]
  },
  {
   "cell_type": "code",
   "execution_count": 50,
   "metadata": {},
   "outputs": [
    {
     "name": "stdout",
     "output_type": "stream",
     "text": [
      "\n",
      "Student Name : Syed Shahmir Sultan \n",
      "Father's Name : Syed Imran Ali Shah \n",
      "Education : High School 3rd Year \n",
      "Age : 17\n",
      "\n",
      "Total : 20\n",
      "\n"
     ]
    }
   ],
   "source": [
    "name : str = 'Syed Shahmir Sultan'\n",
    "fname : str = \"Syed Imran Ali Shah\"\n",
    "education : str = \"High School 3rd Year\"\n",
    "age : int = 17\n",
    "\n",
    "\n",
    "# It doesn't matter if we use single or double quotations\n",
    "card:str = f'''\n",
    "Student Name : {name} \n",
    "Father's Name : {fname} \n",
    "Education : {education} \n",
    "Age : {age}\n",
    "\n",
    "Total : {2+8+10}\n",
    "'''\n",
    "print(card)"
   ]
  },
  {
   "cell_type": "code",
   "execution_count": 70,
   "metadata": {},
   "outputs": [
    {
     "name": "stdout",
     "output_type": "stream",
     "text": [
      "\n",
      "Student Name : Syed Shahmir Sultan\n",
      "Father's Name : Syed Imran Ali Shah\n",
      "Education :  High School 3rd Year\n",
      "Age : 17\n",
      "\n"
     ]
    }
   ],
   "source": [
    "name : str = 'Syed Shahmir Sultan'\n",
    "fname : str = \"Syed Imran Ali Shah\"\n",
    "education : str = \"High School 3rd Year\"\n",
    "age : int = 17\n",
    "\n",
    "\n",
    "card:str = f'''\n",
    "Student Name : %s\n",
    "Father's Name : %s\n",
    "Education :  %s\n",
    "Age : %d\n",
    "''' %(name,fname,education,age)\n",
    "print(card)"
   ]
  }
 ],
 "metadata": {
  "kernelspec": {
   "display_name": "base",
   "language": "python",
   "name": "python3"
  },
  "language_info": {
   "codemirror_mode": {
    "name": "ipython",
    "version": 3
   },
   "file_extension": ".py",
   "mimetype": "text/x-python",
   "name": "python",
   "nbconvert_exporter": "python",
   "pygments_lexer": "ipython3",
   "version": "3.11.7"
  }
 },
 "nbformat": 4,
 "nbformat_minor": 2
}
