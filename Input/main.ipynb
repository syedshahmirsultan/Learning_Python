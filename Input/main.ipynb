{
 "cells": [
  {
   "cell_type": "code",
   "execution_count": 47,
   "metadata": {},
   "outputs": [
    {
     "name": "stdout",
     "output_type": "stream",
     "text": [
      "3\n"
     ]
    }
   ],
   "source": [
    "name : str = input(\"Enter Your Name ?\")\n",
    "print(name)"
   ]
  },
  {
   "cell_type": "code",
   "execution_count": 48,
   "metadata": {},
   "outputs": [
    {
     "name": "stdout",
     "output_type": "stream",
     "text": [
      "5\n",
      "<class 'str'>\n"
     ]
    }
   ],
   "source": [
    "num : str = input(\"Enter any number\")\n",
    "print(num)\n",
    "print(type(num))"
   ]
  },
  {
   "cell_type": "code",
   "execution_count": 49,
   "metadata": {},
   "outputs": [
    {
     "name": "stdout",
     "output_type": "stream",
     "text": [
      "5\n",
      "<class 'int'>\n"
     ]
    }
   ],
   "source": [
    "num : int = int(input(\"Enter any number\"))\n",
    "print(num)\n",
    "print(type(num))"
   ]
  },
  {
   "cell_type": "code",
   "execution_count": 50,
   "metadata": {},
   "outputs": [
    {
     "ename": "SyntaxError",
     "evalue": "invalid syntax (<string>, line 0)",
     "output_type": "error",
     "traceback": [
      "Traceback \u001b[1;36m(most recent call last)\u001b[0m:\n",
      "\u001b[0m  File \u001b[0;32mc:\\Users\\hp\\AppData\\Local\\anaconda3\\Lib\\site-packages\\IPython\\core\\interactiveshell.py:3553\u001b[0m in \u001b[0;35mrun_code\u001b[0m\n    exec(code_obj, self.user_global_ns, self.user_ns)\u001b[0m\n",
      "\u001b[1;36m  Cell \u001b[1;32mIn[50], line 1\u001b[1;36m\n\u001b[1;33m    num : int = eval(input(\"Enter any number\"))\u001b[1;36m\n",
      "\u001b[1;36m  File \u001b[1;32m<string>\u001b[1;36m\u001b[0m\n\u001b[1;33m    \u001b[0m\n\u001b[1;37m    ^\u001b[0m\n\u001b[1;31mSyntaxError\u001b[0m\u001b[1;31m:\u001b[0m invalid syntax\n"
     ]
    }
   ],
   "source": [
    "num : int = eval(input(\"Enter any number\"))\n",
    "print(f\"Number is {num}\")\n",
    "for n in range(1,11):\n",
    "    print(f\" {num} x {n} = {num*n}\")"
   ]
  },
  {
   "cell_type": "code",
   "execution_count": 8,
   "metadata": {},
   "outputs": [
    {
     "name": "stdout",
     "output_type": "stream",
     "text": [
      "1\n",
      "2\n",
      "3\n",
      "4\n",
      "5\n",
      "6\n"
     ]
    }
   ],
   "source": [
    "l1 : tuple[int] = (1,2,3,4,5,6)\n",
    "\n",
    "for n in l1 :\n",
    "    print(n)"
   ]
  },
  {
   "cell_type": "code",
   "execution_count": 13,
   "metadata": {},
   "outputs": [
    {
     "data": {
      "text/plain": [
       "['P', 'a', 'k', 'i', 's', 't', 'a', 'n']"
      ]
     },
     "execution_count": 13,
     "metadata": {},
     "output_type": "execute_result"
    }
   ],
   "source": [
    "country : str = \"Pakistan\"\n",
    "# List Comprehensive\n",
    "[c for c in country]"
   ]
  },
  {
   "cell_type": "code",
   "execution_count": 15,
   "metadata": {},
   "outputs": [
    {
     "name": "stdout",
     "output_type": "stream",
     "text": [
      "P\n",
      "a\n",
      "k\n",
      "i\n",
      "s\n",
      "t\n",
      "a\n",
      "n\n"
     ]
    }
   ],
   "source": [
    "country : str = \"Pakistan\"\n",
    "\n",
    "for c in country:\n",
    "    print(c)"
   ]
  },
  {
   "cell_type": "code",
   "execution_count": 20,
   "metadata": {},
   "outputs": [
    {
     "name": "stdout",
     "output_type": "stream",
     "text": [
      "dictionary key is : name \n",
      "value is : Muhammad Qasim\n",
      "dictionary key is : fname \n",
      "value is : Muhammad Aslam\n"
     ]
    }
   ],
   "source": [
    "l1 : dict[str,str] = {\"name\":\"Muhammad Qasim\",\"fname\":\"Muhammad Aslam\"}\n",
    "\n",
    "for k in l1:\n",
    "    print(f\"dictionary key is : {k} \\nvalue is : {l1[k]}\")"
   ]
  },
  {
   "cell_type": "code",
   "execution_count": 21,
   "metadata": {},
   "outputs": [
    {
     "name": "stdout",
     "output_type": "stream",
     "text": [
      "Set item is 1\n",
      "Set item is 2\n",
      "Set item is 3\n",
      "Set item is 4\n"
     ]
    }
   ],
   "source": [
    "l1 : set[int] = {1,2,3,4,1,1,1,1}\n",
    "\n",
    "for n in l1:\n",
    "    print(f\"Set item is {n}\")"
   ]
  },
  {
   "cell_type": "code",
   "execution_count": 22,
   "metadata": {},
   "outputs": [
    {
     "name": "stdout",
     "output_type": "stream",
     "text": [
      "a x 1\n",
      "b y 2\n",
      "c z 3\n"
     ]
    }
   ],
   "source": [
    "names : list[str] = ['a','b','c']\n",
    "fname : list[str] = ['x','y','z']\n",
    "age : list[int] = [1,2,3]\n",
    "\n",
    "for a,b,c in zip(names,fname,age):\n",
    "    print(a,b,c)"
   ]
  },
  {
   "cell_type": "code",
   "execution_count": 23,
   "metadata": {},
   "outputs": [
    {
     "ename": "TypeError",
     "evalue": "'>=' not supported between instances of 'str' and 'int'",
     "output_type": "error",
     "traceback": [
      "\u001b[1;31m---------------------------------------------------------------------------\u001b[0m",
      "\u001b[1;31mTypeError\u001b[0m                                 Traceback (most recent call last)",
      "Cell \u001b[1;32mIn[23], line 2\u001b[0m\n\u001b[0;32m      1\u001b[0m age:\u001b[38;5;28mstr\u001b[39m \u001b[38;5;241m=\u001b[39m \u001b[38;5;28minput\u001b[39m(\u001b[38;5;124m\"\u001b[39m\u001b[38;5;124mHow old are you? \u001b[39m\u001b[38;5;124m\"\u001b[39m)\n\u001b[1;32m----> 2\u001b[0m age \u001b[38;5;241m>\u001b[39m\u001b[38;5;241m=\u001b[39m \u001b[38;5;241m18\u001b[39m\n",
      "\u001b[1;31mTypeError\u001b[0m: '>=' not supported between instances of 'str' and 'int'"
     ]
    }
   ],
   "source": [
    "age:str = input(\"How old are you? \")\n",
    "age >= 18"
   ]
  },
  {
   "cell_type": "code",
   "execution_count": 28,
   "metadata": {},
   "outputs": [
    {
     "name": "stdout",
     "output_type": "stream",
     "text": [
      "18\n",
      "True\n"
     ]
    }
   ],
   "source": [
    "age:str = int(input(\"How old are you? \"))\n",
    "print(age)\n",
    "print(age >= 18)"
   ]
  },
  {
   "cell_type": "code",
   "execution_count": 29,
   "metadata": {},
   "outputs": [
    {
     "data": {
      "text/plain": [
       "[6, 18]"
      ]
     },
     "execution_count": 29,
     "metadata": {},
     "output_type": "execute_result"
    }
   ],
   "source": [
    "data : list[int] = [1,3,5,6,3,15,18]\n",
    "\n",
    "[i for i in data if i%2 ==0]"
   ]
  },
  {
   "cell_type": "code",
   "execution_count": 38,
   "metadata": {},
   "outputs": [
    {
     "name": "stdout",
     "output_type": "stream",
     "text": [
      "6\n",
      "18\n"
     ]
    }
   ],
   "source": [
    "data : list[int] = [1,3,5,6,3,15,18]\n",
    "\n",
    "for i in data :\n",
    "    if i%2 == 0:\n",
    "        print(i)"
   ]
  },
  {
   "cell_type": "markdown",
   "metadata": {},
   "source": [
    "### This is a logic of a simple Number Guessing Game"
   ]
  },
  {
   "cell_type": "code",
   "execution_count": 4,
   "metadata": {},
   "outputs": [
    {
     "name": "stdout",
     "output_type": "stream",
     "text": [
      "Random Number generated by Computer : 6\n",
      "Congratulations You Guess the right number \n"
     ]
    }
   ],
   "source": [
    "from random import randint\n",
    "num:int = randint(1,10)\n",
    "print(\"Random Number generated by Computer :\",num)\n",
    "user_Guess : int = int(input(\"Guess the Number between 1-10?\"))\n",
    "\n",
    "while num != user_Guess:\n",
    "\n",
    "      user_Guess= int(input(\"Your Previous guess was wrong , Guess another number between 1-10 ?\"))\n",
    "    \n",
    "print(\"Congratulations You Guess the right number \")"
   ]
  }
 ],
 "metadata": {
  "kernelspec": {
   "display_name": "base",
   "language": "python",
   "name": "python3"
  },
  "language_info": {
   "codemirror_mode": {
    "name": "ipython",
    "version": 3
   },
   "file_extension": ".py",
   "mimetype": "text/x-python",
   "name": "python",
   "nbconvert_exporter": "python",
   "pygments_lexer": "ipython3",
   "version": "3.11.7"
  }
 },
 "nbformat": 4,
 "nbformat_minor": 2
}
