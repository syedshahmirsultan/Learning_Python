{
 "cells": [
  {
   "cell_type": "code",
   "execution_count": 15,
   "metadata": {},
   "outputs": [
    {
     "name": "stdout",
     "output_type": "stream",
     "text": [
      "18\n",
      "Sir Zia\n"
     ]
    },
    {
     "ename": "TypeError",
     "evalue": "Teacher.speak() takes 1 positional argument but 2 were given",
     "output_type": "error",
     "traceback": [
      "\u001b[1;31m---------------------------------------------------------------------------\u001b[0m",
      "\u001b[1;31mTypeError\u001b[0m                                 Traceback (most recent call last)",
      "Cell \u001b[1;32mIn[15], line 15\u001b[0m\n\u001b[0;32m     13\u001b[0m \u001b[38;5;28mprint\u001b[39m(obj1\u001b[38;5;241m.\u001b[39mcounter)\n\u001b[0;32m     14\u001b[0m \u001b[38;5;28mprint\u001b[39m(obj1\u001b[38;5;241m.\u001b[39mname)\n\u001b[1;32m---> 15\u001b[0m obj1\u001b[38;5;241m.\u001b[39mspeak(\u001b[38;5;124m\"\u001b[39m\u001b[38;5;124mHello\u001b[39m\u001b[38;5;124m\"\u001b[39m)\n\u001b[0;32m     16\u001b[0m \u001b[38;5;28mprint\u001b[39m(obj1\u001b[38;5;241m.\u001b[39mteacher_id)\n\u001b[0;32m     17\u001b[0m \u001b[38;5;28mprint\u001b[39m(obj1\u001b[38;5;241m.\u001b[39morganization)\n",
      "\u001b[1;31mTypeError\u001b[0m: Teacher.speak() takes 1 positional argument but 2 were given"
     ]
    }
   ],
   "source": [
    "class Teacher():\n",
    "    counter:int = \"18\"\n",
    "    \n",
    "    def __init__(self,teacher_id :int,teacher_name:str) -> None:\n",
    "        self.name :str = teacher_name\n",
    "        self.teacher_id :int = teacher_id\n",
    "        self.organization :str = \"PIAIC\"\n",
    "    \n",
    "    def speak(self,word:str)->None:\n",
    "        print(f\"You said {word}\")\n",
    "\n",
    "obj1 : Teacher = Teacher(3,\"Sir Zia\")\n",
    "print(obj1.counter)\n",
    "print(obj1.name)\n",
    "obj1.speak(\"Hello\")\n",
    "print(obj1.teacher_id)\n",
    "print(obj1.organization)"
   ]
  },
  {
   "cell_type": "code",
   "execution_count": null,
   "metadata": {},
   "outputs": [],
   "source": []
  }
 ],
 "metadata": {
  "kernelspec": {
   "display_name": "base",
   "language": "python",
   "name": "python3"
  },
  "language_info": {
   "codemirror_mode": {
    "name": "ipython",
    "version": 3
   },
   "file_extension": ".py",
   "mimetype": "text/x-python",
   "name": "python",
   "nbconvert_exporter": "python",
   "pygments_lexer": "ipython3",
   "version": "3.11.7"
  }
 },
 "nbformat": 4,
 "nbformat_minor": 2
}
