{
 "cells": [
  {
   "cell_type": "code",
   "execution_count": 16,
   "metadata": {},
   "outputs": [
    {
     "name": "stdout",
     "output_type": "stream",
     "text": [
      "18\n",
      "Sir Zia\n",
      "You said Hello\n",
      "3\n",
      "PIAIC\n"
     ]
    }
   ],
   "source": [
    "class Teacher():\n",
    "    counter:int = \"18\"\n",
    "    \n",
    "    def __init__(self,teacher_id :int,teacher_name:str) -> None:\n",
    "        self.name :str = teacher_name\n",
    "        self.teacher_id :int = teacher_id\n",
    "        self.organization :str = \"PIAIC\"\n",
    "    \n",
    "    def speak(self,word:str)->None:\n",
    "        print(f\"You said {word}\")\n",
    "\n",
    "obj1 : Teacher = Teacher(3,\"Sir Zia\")\n",
    "print(obj1.counter)\n",
    "print(obj1.name)\n",
    "obj1.speak(\"Hello\")\n",
    "print(obj1.teacher_id)\n",
    "print(obj1.organization)"
   ]
  },
  {
   "cell_type": "code",
   "execution_count": 18,
   "metadata": {},
   "outputs": [
    {
     "name": "stdout",
     "output_type": "stream",
     "text": [
      "Shahmir\n",
      "Hashir\n",
      "17\n",
      "6 Feet\n",
      "Commmodores Learning Foundation\n",
      "78\n",
      "Hashir ! You can speak English and Urdu \n"
     ]
    }
   ],
   "source": [
    "class Student():\n",
    "    programmer:str = \"Shahmir\"\n",
    "    def __init__(self,weight:int,name:str,height:str,age:int) -> None:\n",
    "        self.name = name\n",
    "        self.weight:int = weight\n",
    "        self.h1:str = height\n",
    "        self.age:int = age\n",
    "        self.school:str = \"Commmodores Learning Foundation\"\n",
    "    def languages(self,lang1:str,lang2:str)->None:\n",
    "        print(f\"{self.name} ! You can speak {lang1} and {lang2} \")\n",
    "\n",
    "\n",
    "        \n",
    "obj1:Student = Student(78,\"Hashir\",\"6 Feet\",17)\n",
    "print(obj1.programmer)\n",
    "print(obj1.name)\n",
    "print(obj1.age)\n",
    "print(obj1.h1)\n",
    "print(obj1.school)\n",
    "print(obj1.weight)\n",
    "obj1.languages(\"English\",\"Urdu\")"
   ]
  },
  {
   "cell_type": "code",
   "execution_count": 20,
   "metadata": {},
   "outputs": [
    {
     "name": "stdout",
     "output_type": "stream",
     "text": [
      "Sultan\n",
      "52\n",
      "Triple S\n",
      "5.9 Feet\n",
      "Shahmir\n",
      "78\n",
      "Commmodores Learning Foundation\n",
      "Sultan ! You can speak Urdu and Punjabi \n"
     ]
    }
   ],
   "source": [
    "class Student():\n",
    "    programmer:str = \"Shahmir\"\n",
    "    def __init__(self,weight:int,name:str,height:str,age:int) -> None:\n",
    "        self.name = name\n",
    "        self.weight:int = weight\n",
    "        self.h1:str = height\n",
    "        self.age:int = age\n",
    "        self.school:str = \"Commmodores Learning Foundation\"\n",
    "    def languages(self,lang1:str,lang2:str)->None:\n",
    "        print(f\"{self.name} ! You can speak {lang1} and {lang2} \")\n",
    "\n",
    "# Inheritance\n",
    "class Friend(Student):\n",
    "    designer:str = \"Triple S\"\n",
    "    \n",
    "obj2:Friend = Friend(78,\"Sultan\",\"5.9 Feet\",52)\n",
    "print(obj2.name)\n",
    "print(obj2.age)\n",
    "print(obj2.designer)\n",
    "print(obj2.h1)\n",
    "print(obj2.programmer)\n",
    "print(obj2.weight)\n",
    "print(obj2.school)\n",
    "obj2.languages(\"Urdu\",\"Punjabi\")"
   ]
  },
  {
   "cell_type": "code",
   "execution_count": 23,
   "metadata": {},
   "outputs": [
    {
     "name": "stdout",
     "output_type": "stream",
     "text": [
      "Syed Shahmir Sultan\n",
      "High School\n",
      "Gen AI Engineer\n",
      "Urdu\n"
     ]
    }
   ],
   "source": [
    "class Employee():\n",
    "    def __init__(self,name:str,language:str) -> None:\n",
    "        self.name:str = name\n",
    "        self.language = language\n",
    "        self.education:str = \"High School\"\n",
    "        \n",
    "class Designer(Employee):\n",
    "    def __init__(self,title:str,name:str,language:str)->None:\n",
    "        super().__init__(name,language)\n",
    "        self.title:str = title\n",
    "            \n",
    "obj1:Designer = Designer(\"Gen AI Engineer\",\"Syed Shahmir Sultan\",\"Urdu\")\n",
    "print(obj1.name)\n",
    "print(obj1.education)\n",
    "print(obj1.title)\n",
    "print(obj1.language)"
   ]
  },
  {
   "cell_type": "code",
   "execution_count": null,
   "metadata": {},
   "outputs": [],
   "source": []
  }
 ],
 "metadata": {
  "kernelspec": {
   "display_name": "base",
   "language": "python",
   "name": "python3"
  },
  "language_info": {
   "codemirror_mode": {
    "name": "ipython",
    "version": 3
   },
   "file_extension": ".py",
   "mimetype": "text/x-python",
   "name": "python",
   "nbconvert_exporter": "python",
   "pygments_lexer": "ipython3",
   "version": "3.11.7"
  }
 },
 "nbformat": 4,
 "nbformat_minor": 2
}
